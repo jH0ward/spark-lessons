{
 "cells": [
  {
   "cell_type": "markdown",
   "metadata": {},
   "source": [
    "# Set up Spark and create Session"
   ]
  },
  {
   "cell_type": "code",
   "execution_count": 1,
   "metadata": {},
   "outputs": [],
   "source": [
    "import findspark\n",
    "import os\n",
    "os.environ['SPARK_HOME'] = '/opt/spark'\n",
    "os.environ['PATH'] = os.environ['SPARK_HOME'] + ':' + os.environ['PATH']\n",
    "findspark.init()"
   ]
  },
  {
   "cell_type": "code",
   "execution_count": 2,
   "metadata": {},
   "outputs": [],
   "source": [
    "import pyspark\n",
    "from pyspark.sql import SparkSession\n",
    "spark = SparkSession.builder.getOrCreate()"
   ]
  },
  {
   "cell_type": "code",
   "execution_count": 28,
   "metadata": {},
   "outputs": [],
   "source": [
    "from pyspark.sql.functions import to_timestamp, col, lit\n",
    "import pyspark.sql.functions as F"
   ]
  },
  {
   "cell_type": "code",
   "execution_count": 103,
   "metadata": {},
   "outputs": [],
   "source": [
    "# Read Crime data"
   ]
  },
  {
   "cell_type": "code",
   "execution_count": 4,
   "metadata": {},
   "outputs": [],
   "source": [
    "df = spark.read.csv('./data.csv', header=True).withColumn('Date',to_timestamp(col('Date'), 'MM/dd/yyyy hh:mm:ss a')).filter(col('Date') <= lit('2018-11-11'))"
   ]
  },
  {
   "cell_type": "code",
   "execution_count": 5,
   "metadata": {},
   "outputs": [
    {
     "data": {
      "text/plain": [
       "6752727"
      ]
     },
     "execution_count": 5,
     "metadata": {},
     "output_type": "execute_result"
    }
   ],
   "source": [
    "df.count()"
   ]
  },
  {
   "cell_type": "code",
   "execution_count": 8,
   "metadata": {},
   "outputs": [
    {
     "name": "stdout",
     "output_type": "stream",
     "text": [
      "+--------+-----------+-------------------+------------------+----+-------------------+--------------------+--------------------+------+--------+----+--------+----+--------------+--------+------------+------------+----+--------------------+--------+---------+--------+\n",
      "|      ID|Case Number|               Date|             Block|IUCR|       Primary Type|         Description|Location Description|Arrest|Domestic|Beat|District|Ward|Community Area|FBI Code|X Coordinate|Y Coordinate|Year|          Updated On|Latitude|Longitude|Location|\n",
      "+--------+-----------+-------------------+------------------+----+-------------------+--------------------+--------------------+------+--------+----+--------+----+--------------+--------+------------+------------+----+--------------------+--------+---------+--------+\n",
      "|11034701|   JA366925|2001-01-01 11:00:00|   016XX E 86TH PL|1153| DECEPTIVE PRACTICE|FINANCIAL IDENTIT...|           RESIDENCE| false|   false|0412|     004|   8|            45|      11|        null|        null|2001|08/05/2017 03:50:...|    null|     null|    null|\n",
      "|11227287|   JB147188|2017-10-08 03:00:00|092XX S RACINE AVE|0281|CRIM SEXUAL ASSAULT|      NON-AGGRAVATED|           RESIDENCE| false|   false|2222|     022|  21|            73|      02|        null|        null|2017|02/11/2018 03:57:...|    null|     null|    null|\n",
      "|11227583|   JB147595|2017-03-28 14:00:00|   026XX W 79TH ST|0620|           BURGLARY|      UNLAWFUL ENTRY|               OTHER| false|   false|0835|     008|  18|            70|      05|        null|        null|2017|02/11/2018 03:57:...|    null|     null|    null|\n",
      "+--------+-----------+-------------------+------------------+----+-------------------+--------------------+--------------------+------+--------+----+--------+----+--------------+--------+------------+------------+----+--------------------+--------+---------+--------+\n",
      "only showing top 3 rows\n",
      "\n"
     ]
    }
   ],
   "source": [
    "df.show(3)"
   ]
  },
  {
   "cell_type": "code",
   "execution_count": 17,
   "metadata": {},
   "outputs": [],
   "source": [
    "pdf = df.limit(100).toPandas()"
   ]
  },
  {
   "cell_type": "code",
   "execution_count": 18,
   "metadata": {},
   "outputs": [
    {
     "data": {
      "text/html": [
       "<div>\n",
       "<style scoped>\n",
       "    .dataframe tbody tr th:only-of-type {\n",
       "        vertical-align: middle;\n",
       "    }\n",
       "\n",
       "    .dataframe tbody tr th {\n",
       "        vertical-align: top;\n",
       "    }\n",
       "\n",
       "    .dataframe thead th {\n",
       "        text-align: right;\n",
       "    }\n",
       "</style>\n",
       "<table border=\"1\" class=\"dataframe\">\n",
       "  <thead>\n",
       "    <tr style=\"text-align: right;\">\n",
       "      <th></th>\n",
       "      <th>ID</th>\n",
       "      <th>Case Number</th>\n",
       "      <th>Date</th>\n",
       "      <th>Block</th>\n",
       "      <th>IUCR</th>\n",
       "      <th>Primary Type</th>\n",
       "      <th>Description</th>\n",
       "      <th>Location Description</th>\n",
       "      <th>Arrest</th>\n",
       "      <th>Domestic</th>\n",
       "      <th>...</th>\n",
       "      <th>Ward</th>\n",
       "      <th>Community Area</th>\n",
       "      <th>FBI Code</th>\n",
       "      <th>X Coordinate</th>\n",
       "      <th>Y Coordinate</th>\n",
       "      <th>Year</th>\n",
       "      <th>Updated On</th>\n",
       "      <th>Latitude</th>\n",
       "      <th>Longitude</th>\n",
       "      <th>Location</th>\n",
       "    </tr>\n",
       "  </thead>\n",
       "  <tbody>\n",
       "    <tr>\n",
       "      <th>0</th>\n",
       "      <td>11034701</td>\n",
       "      <td>JA366925</td>\n",
       "      <td>2001-01-01 11:00:00</td>\n",
       "      <td>016XX E 86TH PL</td>\n",
       "      <td>1153</td>\n",
       "      <td>DECEPTIVE PRACTICE</td>\n",
       "      <td>FINANCIAL IDENTITY THEFT OVER $ 300</td>\n",
       "      <td>RESIDENCE</td>\n",
       "      <td>false</td>\n",
       "      <td>false</td>\n",
       "      <td>...</td>\n",
       "      <td>8</td>\n",
       "      <td>45</td>\n",
       "      <td>11</td>\n",
       "      <td>None</td>\n",
       "      <td>None</td>\n",
       "      <td>2001</td>\n",
       "      <td>08/05/2017 03:50:08 PM</td>\n",
       "      <td>None</td>\n",
       "      <td>None</td>\n",
       "      <td>None</td>\n",
       "    </tr>\n",
       "    <tr>\n",
       "      <th>1</th>\n",
       "      <td>11227287</td>\n",
       "      <td>JB147188</td>\n",
       "      <td>2017-10-08 03:00:00</td>\n",
       "      <td>092XX S RACINE AVE</td>\n",
       "      <td>0281</td>\n",
       "      <td>CRIM SEXUAL ASSAULT</td>\n",
       "      <td>NON-AGGRAVATED</td>\n",
       "      <td>RESIDENCE</td>\n",
       "      <td>false</td>\n",
       "      <td>false</td>\n",
       "      <td>...</td>\n",
       "      <td>21</td>\n",
       "      <td>73</td>\n",
       "      <td>02</td>\n",
       "      <td>None</td>\n",
       "      <td>None</td>\n",
       "      <td>2017</td>\n",
       "      <td>02/11/2018 03:57:41 PM</td>\n",
       "      <td>None</td>\n",
       "      <td>None</td>\n",
       "      <td>None</td>\n",
       "    </tr>\n",
       "    <tr>\n",
       "      <th>2</th>\n",
       "      <td>11227583</td>\n",
       "      <td>JB147595</td>\n",
       "      <td>2017-03-28 14:00:00</td>\n",
       "      <td>026XX W 79TH ST</td>\n",
       "      <td>0620</td>\n",
       "      <td>BURGLARY</td>\n",
       "      <td>UNLAWFUL ENTRY</td>\n",
       "      <td>OTHER</td>\n",
       "      <td>false</td>\n",
       "      <td>false</td>\n",
       "      <td>...</td>\n",
       "      <td>18</td>\n",
       "      <td>70</td>\n",
       "      <td>05</td>\n",
       "      <td>None</td>\n",
       "      <td>None</td>\n",
       "      <td>2017</td>\n",
       "      <td>02/11/2018 03:57:41 PM</td>\n",
       "      <td>None</td>\n",
       "      <td>None</td>\n",
       "      <td>None</td>\n",
       "    </tr>\n",
       "    <tr>\n",
       "      <th>3</th>\n",
       "      <td>11227293</td>\n",
       "      <td>JB147230</td>\n",
       "      <td>2017-09-09 20:17:00</td>\n",
       "      <td>060XX S EBERHART AVE</td>\n",
       "      <td>0810</td>\n",
       "      <td>THEFT</td>\n",
       "      <td>OVER $500</td>\n",
       "      <td>RESIDENCE</td>\n",
       "      <td>false</td>\n",
       "      <td>false</td>\n",
       "      <td>...</td>\n",
       "      <td>20</td>\n",
       "      <td>42</td>\n",
       "      <td>06</td>\n",
       "      <td>None</td>\n",
       "      <td>None</td>\n",
       "      <td>2017</td>\n",
       "      <td>02/11/2018 03:57:41 PM</td>\n",
       "      <td>None</td>\n",
       "      <td>None</td>\n",
       "      <td>None</td>\n",
       "    </tr>\n",
       "    <tr>\n",
       "      <th>4</th>\n",
       "      <td>11227634</td>\n",
       "      <td>JB147599</td>\n",
       "      <td>2017-08-26 10:00:00</td>\n",
       "      <td>001XX W RANDOLPH ST</td>\n",
       "      <td>0281</td>\n",
       "      <td>CRIM SEXUAL ASSAULT</td>\n",
       "      <td>NON-AGGRAVATED</td>\n",
       "      <td>HOTEL/MOTEL</td>\n",
       "      <td>false</td>\n",
       "      <td>false</td>\n",
       "      <td>...</td>\n",
       "      <td>42</td>\n",
       "      <td>32</td>\n",
       "      <td>02</td>\n",
       "      <td>None</td>\n",
       "      <td>None</td>\n",
       "      <td>2017</td>\n",
       "      <td>02/11/2018 03:57:41 PM</td>\n",
       "      <td>None</td>\n",
       "      <td>None</td>\n",
       "      <td>None</td>\n",
       "    </tr>\n",
       "  </tbody>\n",
       "</table>\n",
       "<p>5 rows × 22 columns</p>\n",
       "</div>"
      ],
      "text/plain": [
       "         ID Case Number                Date                 Block  IUCR  \\\n",
       "0  11034701    JA366925 2001-01-01 11:00:00       016XX E 86TH PL  1153   \n",
       "1  11227287    JB147188 2017-10-08 03:00:00    092XX S RACINE AVE  0281   \n",
       "2  11227583    JB147595 2017-03-28 14:00:00       026XX W 79TH ST  0620   \n",
       "3  11227293    JB147230 2017-09-09 20:17:00  060XX S EBERHART AVE  0810   \n",
       "4  11227634    JB147599 2017-08-26 10:00:00   001XX W RANDOLPH ST  0281   \n",
       "\n",
       "          Primary Type                          Description  \\\n",
       "0   DECEPTIVE PRACTICE  FINANCIAL IDENTITY THEFT OVER $ 300   \n",
       "1  CRIM SEXUAL ASSAULT                       NON-AGGRAVATED   \n",
       "2             BURGLARY                       UNLAWFUL ENTRY   \n",
       "3                THEFT                            OVER $500   \n",
       "4  CRIM SEXUAL ASSAULT                       NON-AGGRAVATED   \n",
       "\n",
       "  Location Description Arrest Domestic  ... Ward Community Area FBI Code  \\\n",
       "0            RESIDENCE  false    false  ...    8             45       11   \n",
       "1            RESIDENCE  false    false  ...   21             73       02   \n",
       "2                OTHER  false    false  ...   18             70       05   \n",
       "3            RESIDENCE  false    false  ...   20             42       06   \n",
       "4          HOTEL/MOTEL  false    false  ...   42             32       02   \n",
       "\n",
       "  X Coordinate Y Coordinate  Year              Updated On Latitude Longitude  \\\n",
       "0         None         None  2001  08/05/2017 03:50:08 PM     None      None   \n",
       "1         None         None  2017  02/11/2018 03:57:41 PM     None      None   \n",
       "2         None         None  2017  02/11/2018 03:57:41 PM     None      None   \n",
       "3         None         None  2017  02/11/2018 03:57:41 PM     None      None   \n",
       "4         None         None  2017  02/11/2018 03:57:41 PM     None      None   \n",
       "\n",
       "  Location  \n",
       "0     None  \n",
       "1     None  \n",
       "2     None  \n",
       "3     None  \n",
       "4     None  \n",
       "\n",
       "[5 rows x 22 columns]"
      ]
     },
     "execution_count": 18,
     "metadata": {},
     "output_type": "execute_result"
    }
   ],
   "source": [
    "pdf.head()"
   ]
  },
  {
   "cell_type": "markdown",
   "metadata": {},
   "source": [
    "# Get columns of Crime, True/False was Arrested and Count with groupby"
   ]
  },
  {
   "cell_type": "code",
   "execution_count": 22,
   "metadata": {},
   "outputs": [],
   "source": [
    "df2 = df.groupBy('Primary Type', 'Arrest').count()"
   ]
  },
  {
   "cell_type": "code",
   "execution_count": 23,
   "metadata": {},
   "outputs": [
    {
     "name": "stdout",
     "output_type": "stream",
     "text": [
      "root\n",
      " |-- Primary Type: string (nullable = true)\n",
      " |-- Arrest: string (nullable = true)\n",
      " |-- count: long (nullable = false)\n",
      "\n"
     ]
    }
   ],
   "source": [
    "df2.printSchema()"
   ]
  },
  {
   "cell_type": "code",
   "execution_count": 24,
   "metadata": {},
   "outputs": [],
   "source": [
    "df2 = df2.orderBy('Primary Type')"
   ]
  },
  {
   "cell_type": "code",
   "execution_count": 25,
   "metadata": {},
   "outputs": [
    {
     "name": "stdout",
     "output_type": "stream",
     "text": [
      "+--------------------+------+------+\n",
      "|        Primary Type|Arrest| count|\n",
      "+--------------------+------+------+\n",
      "|               ARSON|  true|  1463|\n",
      "|               ARSON| false|  9693|\n",
      "|             ASSAULT|  true| 96828|\n",
      "|             ASSAULT| false|321674|\n",
      "|             BATTERY| false|951209|\n",
      "|             BATTERY|  true|280938|\n",
      "|            BURGLARY|  true| 22407|\n",
      "|            BURGLARY| false|365616|\n",
      "|CONCEALED CARRY L...|  true|   269|\n",
      "|CONCEALED CARRY L...| false|    14|\n",
      "| CRIM SEXUAL ASSAULT| false| 22634|\n",
      "| CRIM SEXUAL ASSAULT|  true|  4361|\n",
      "|     CRIMINAL DAMAGE| false|716956|\n",
      "|     CRIMINAL DAMAGE|  true| 54498|\n",
      "|CRIMINAL SEXUAL A...| false|   373|\n",
      "|CRIMINAL SEXUAL A...|  true|    64|\n",
      "|   CRIMINAL TRESPASS| false| 51736|\n",
      "|   CRIMINAL TRESPASS|  true|141632|\n",
      "|  DECEPTIVE PRACTICE| false|221458|\n",
      "|  DECEPTIVE PRACTICE|  true| 44279|\n",
      "+--------------------+------+------+\n",
      "only showing top 20 rows\n",
      "\n"
     ]
    }
   ],
   "source": [
    "df2.show()"
   ]
  },
  {
   "cell_type": "markdown",
   "metadata": {},
   "source": [
    "# Get a df counting total number of crime incidents for each type"
   ]
  },
  {
   "cell_type": "code",
   "execution_count": 37,
   "metadata": {},
   "outputs": [],
   "source": [
    "#df3 = df2.groupBy('Primary Type').agg({'count': 'min'})\n",
    "df3 = df2.groupBy('Primary Type').agg(F.sum(col('count')))"
   ]
  },
  {
   "cell_type": "markdown",
   "metadata": {},
   "source": [
    "# Left join incident count with arrest count"
   ]
  },
  {
   "cell_type": "code",
   "execution_count": 44,
   "metadata": {},
   "outputs": [],
   "source": [
    "df4 = df3.join(df2.filter(col('Arrest') == 'true'), how='left', on='Primary Type').select('Primary Type', 'sum(count)', 'count')"
   ]
  },
  {
   "cell_type": "code",
   "execution_count": 46,
   "metadata": {},
   "outputs": [
    {
     "name": "stdout",
     "output_type": "stream",
     "text": [
      "+--------------------+----------+------+\n",
      "|        Primary Type|sum(count)| count|\n",
      "+--------------------+----------+------+\n",
      "|               ARSON|     11156|  1463|\n",
      "|             ASSAULT|    418502| 96828|\n",
      "|             BATTERY|   1232147|280938|\n",
      "|            BURGLARY|    388023| 22407|\n",
      "|CONCEALED CARRY L...|       283|   269|\n",
      "| CRIM SEXUAL ASSAULT|     26995|  4361|\n",
      "|     CRIMINAL DAMAGE|    771454| 54498|\n",
      "|CRIMINAL SEXUAL A...|       437|    64|\n",
      "|   CRIMINAL TRESPASS|    193368|141632|\n",
      "|  DECEPTIVE PRACTICE|    265737| 44279|\n",
      "|   DOMESTIC VIOLENCE|         1|     1|\n",
      "|            GAMBLING|     14422| 14318|\n",
      "|            HOMICIDE|      9466|  4639|\n",
      "|   HUMAN TRAFFICKING|        49|     6|\n",
      "|INTERFERENCE WITH...|     15140| 13888|\n",
      "|        INTIMIDATION|      3937|   699|\n",
      "|          KIDNAPPING|      6658|   744|\n",
      "|LIQUOR LAW VIOLATION|     14067| 13942|\n",
      "| MOTOR VEHICLE THEFT|    314116| 28706|\n",
      "|           NARCOTICS|    711646|707436|\n",
      "+--------------------+----------+------+\n",
      "only showing top 20 rows\n",
      "\n"
     ]
    }
   ],
   "source": [
    "df4 = df4.orderBy('Primary Type')\n",
    "df4.show()"
   ]
  },
  {
   "cell_type": "markdown",
   "metadata": {},
   "source": [
    "# Make Percent Arrest column with resulting joined columns of incidents and arrests (True) counts"
   ]
  },
  {
   "cell_type": "code",
   "execution_count": 49,
   "metadata": {},
   "outputs": [],
   "source": [
    "df5 = df4.withColumn('Percent Arrest', col('count') / col('sum(count)'))"
   ]
  },
  {
   "cell_type": "code",
   "execution_count": 50,
   "metadata": {},
   "outputs": [
    {
     "name": "stdout",
     "output_type": "stream",
     "text": [
      "+--------------------+----------+------+-------------------+\n",
      "|        Primary Type|sum(count)| count|     Percent Arrest|\n",
      "+--------------------+----------+------+-------------------+\n",
      "|               ARSON|     11156|  1463|0.13114019361778415|\n",
      "|             ASSAULT|    418502| 96828|0.23136806992559175|\n",
      "|             BATTERY|   1232147|280938|  0.228006885542066|\n",
      "|            BURGLARY|    388023| 22407|0.05774657687817475|\n",
      "|CONCEALED CARRY L...|       283|   269|  0.950530035335689|\n",
      "| CRIM SEXUAL ASSAULT|     26995|  4361|0.16154843489535098|\n",
      "|     CRIMINAL DAMAGE|    771454| 54498|0.07064322694548217|\n",
      "|CRIMINAL SEXUAL A...|       437|    64|0.14645308924485126|\n",
      "|   CRIMINAL TRESPASS|    193368|141632| 0.7324479748458897|\n",
      "|  DECEPTIVE PRACTICE|    265737| 44279|0.16662715391533733|\n",
      "|   DOMESTIC VIOLENCE|         1|     1|                1.0|\n",
      "|            GAMBLING|     14422| 14318| 0.9927887948966856|\n",
      "|            HOMICIDE|      9466|  4639| 0.4900697232199451|\n",
      "|   HUMAN TRAFFICKING|        49|     6|0.12244897959183673|\n",
      "|INTERFERENCE WITH...|     15140| 13888| 0.9173051519154557|\n",
      "|        INTIMIDATION|      3937|   699| 0.1775463550927102|\n",
      "|          KIDNAPPING|      6658|   744|0.11174526884950435|\n",
      "|LIQUOR LAW VIOLATION|     14067| 13942| 0.9911139546456245|\n",
      "| MOTOR VEHICLE THEFT|    314116| 28706|0.09138662150288429|\n",
      "|           NARCOTICS|    711646|707436| 0.9940841373379461|\n",
      "+--------------------+----------+------+-------------------+\n",
      "only showing top 20 rows\n",
      "\n"
     ]
    }
   ],
   "source": [
    "df5.show()"
   ]
  },
  {
   "cell_type": "markdown",
   "metadata": {},
   "source": [
    "# Calling groupy() on single column, then agg function (sum, here), followed by collect()[0][0] gets you the raw value"
   ]
  },
  {
   "cell_type": "code",
   "execution_count": 60,
   "metadata": {},
   "outputs": [],
   "source": [
    "sum_arrest = df5.select('count').groupby().sum()"
   ]
  },
  {
   "cell_type": "code",
   "execution_count": 68,
   "metadata": {},
   "outputs": [
    {
     "data": {
      "text/plain": [
       "1874211"
      ]
     },
     "execution_count": 68,
     "metadata": {},
     "output_type": "execute_result"
    }
   ],
   "source": [
    "sum_arrest.collect()[0][0]"
   ]
  },
  {
   "cell_type": "code",
   "execution_count": 69,
   "metadata": {},
   "outputs": [],
   "source": [
    "sum_incidents = df5.select('sum(count)').groupby().sum().collect()[0][0]"
   ]
  },
  {
   "cell_type": "code",
   "execution_count": 70,
   "metadata": {},
   "outputs": [
    {
     "data": {
      "text/plain": [
       "0.2775487591901761"
      ]
     },
     "execution_count": 70,
     "metadata": {},
     "output_type": "execute_result"
    }
   ],
   "source": [
    "1874211 / sum_incidents"
   ]
  },
  {
   "cell_type": "code",
   "execution_count": 71,
   "metadata": {},
   "outputs": [
    {
     "name": "stdout",
     "output_type": "stream",
     "text": [
      "root\n",
      " |-- ID: string (nullable = true)\n",
      " |-- Case Number: string (nullable = true)\n",
      " |-- Date: timestamp (nullable = true)\n",
      " |-- Block: string (nullable = true)\n",
      " |-- IUCR: string (nullable = true)\n",
      " |-- Primary Type: string (nullable = true)\n",
      " |-- Description: string (nullable = true)\n",
      " |-- Location Description: string (nullable = true)\n",
      " |-- Arrest: string (nullable = true)\n",
      " |-- Domestic: string (nullable = true)\n",
      " |-- Beat: string (nullable = true)\n",
      " |-- District: string (nullable = true)\n",
      " |-- Ward: string (nullable = true)\n",
      " |-- Community Area: string (nullable = true)\n",
      " |-- FBI Code: string (nullable = true)\n",
      " |-- X Coordinate: string (nullable = true)\n",
      " |-- Y Coordinate: string (nullable = true)\n",
      " |-- Year: string (nullable = true)\n",
      " |-- Updated On: string (nullable = true)\n",
      " |-- Latitude: string (nullable = true)\n",
      " |-- Longitude: string (nullable = true)\n",
      " |-- Location: string (nullable = true)\n",
      "\n"
     ]
    }
   ],
   "source": [
    "df.printSchema()"
   ]
  },
  {
   "cell_type": "markdown",
   "metadata": {},
   "source": [
    "# Use Window and rank() to get the top 3 locations for each crime"
   ]
  },
  {
   "cell_type": "markdown",
   "metadata": {},
   "source": [
    "## Define the window partioning by crime type and ordering by the count of type/location (To be calculated)"
   ]
  },
  {
   "cell_type": "code",
   "execution_count": 104,
   "metadata": {},
   "outputs": [],
   "source": [
    "from pyspark.sql.window import Window\n",
    "from pyspark.sql.functions import row_number, rank\n",
    "# Partitioning by Crime type, so we get a ranking for each\n",
    "windowSpec  = Window.partitionBy(\"Primary Type\").orderBy(col(\"count\").desc())"
   ]
  },
  {
   "cell_type": "markdown",
   "metadata": {},
   "source": [
    "## GroupBy type/location and count and compute the rank"
   ]
  },
  {
   "cell_type": "code",
   "execution_count": 91,
   "metadata": {},
   "outputs": [],
   "source": [
    "df_place = df.groupBy('Primary Type', 'Location Description').count()\n",
    "df_place = df_place.withColumn(\"location rank\", rank().over(windowSpec))"
   ]
  },
  {
   "cell_type": "code",
   "execution_count": 90,
   "metadata": {},
   "outputs": [
    {
     "data": {
      "text/html": [
       "<div>\n",
       "<style scoped>\n",
       "    .dataframe tbody tr th:only-of-type {\n",
       "        vertical-align: middle;\n",
       "    }\n",
       "\n",
       "    .dataframe tbody tr th {\n",
       "        vertical-align: top;\n",
       "    }\n",
       "\n",
       "    .dataframe thead th {\n",
       "        text-align: right;\n",
       "    }\n",
       "</style>\n",
       "<table border=\"1\" class=\"dataframe\">\n",
       "  <thead>\n",
       "    <tr style=\"text-align: right;\">\n",
       "      <th></th>\n",
       "      <th>Primary Type</th>\n",
       "      <th>Location Description</th>\n",
       "      <th>count</th>\n",
       "      <th>location rank</th>\n",
       "    </tr>\n",
       "  </thead>\n",
       "  <tbody>\n",
       "    <tr>\n",
       "      <th>0</th>\n",
       "      <td>OFFENSE INVOLVING CHILDREN</td>\n",
       "      <td>RESIDENCE</td>\n",
       "      <td>24877</td>\n",
       "      <td>1</td>\n",
       "    </tr>\n",
       "    <tr>\n",
       "      <th>1</th>\n",
       "      <td>OFFENSE INVOLVING CHILDREN</td>\n",
       "      <td>APARTMENT</td>\n",
       "      <td>10755</td>\n",
       "      <td>2</td>\n",
       "    </tr>\n",
       "    <tr>\n",
       "      <th>2</th>\n",
       "      <td>OFFENSE INVOLVING CHILDREN</td>\n",
       "      <td>STREET</td>\n",
       "      <td>2008</td>\n",
       "      <td>3</td>\n",
       "    </tr>\n",
       "    <tr>\n",
       "      <th>3</th>\n",
       "      <td>OFFENSE INVOLVING CHILDREN</td>\n",
       "      <td>SIDEWALK</td>\n",
       "      <td>1115</td>\n",
       "      <td>4</td>\n",
       "    </tr>\n",
       "    <tr>\n",
       "      <th>4</th>\n",
       "      <td>OFFENSE INVOLVING CHILDREN</td>\n",
       "      <td>OTHER</td>\n",
       "      <td>1088</td>\n",
       "      <td>5</td>\n",
       "    </tr>\n",
       "    <tr>\n",
       "      <th>...</th>\n",
       "      <td>...</td>\n",
       "      <td>...</td>\n",
       "      <td>...</td>\n",
       "      <td>...</td>\n",
       "    </tr>\n",
       "    <tr>\n",
       "      <th>195</th>\n",
       "      <td>PUBLIC PEACE VIOLATION</td>\n",
       "      <td>SCHOOL, PUBLIC, BUILDING</td>\n",
       "      <td>4591</td>\n",
       "      <td>4</td>\n",
       "    </tr>\n",
       "    <tr>\n",
       "      <th>196</th>\n",
       "      <td>PUBLIC PEACE VIOLATION</td>\n",
       "      <td>APARTMENT</td>\n",
       "      <td>1947</td>\n",
       "      <td>5</td>\n",
       "    </tr>\n",
       "    <tr>\n",
       "      <th>197</th>\n",
       "      <td>PUBLIC PEACE VIOLATION</td>\n",
       "      <td>ALLEY</td>\n",
       "      <td>1385</td>\n",
       "      <td>6</td>\n",
       "    </tr>\n",
       "    <tr>\n",
       "      <th>198</th>\n",
       "      <td>PUBLIC PEACE VIOLATION</td>\n",
       "      <td>OTHER</td>\n",
       "      <td>1366</td>\n",
       "      <td>7</td>\n",
       "    </tr>\n",
       "    <tr>\n",
       "      <th>199</th>\n",
       "      <td>PUBLIC PEACE VIOLATION</td>\n",
       "      <td>PARK PROPERTY</td>\n",
       "      <td>784</td>\n",
       "      <td>8</td>\n",
       "    </tr>\n",
       "  </tbody>\n",
       "</table>\n",
       "<p>200 rows × 4 columns</p>\n",
       "</div>"
      ],
      "text/plain": [
       "                   Primary Type      Location Description  count  \\\n",
       "0    OFFENSE INVOLVING CHILDREN                 RESIDENCE  24877   \n",
       "1    OFFENSE INVOLVING CHILDREN                 APARTMENT  10755   \n",
       "2    OFFENSE INVOLVING CHILDREN                    STREET   2008   \n",
       "3    OFFENSE INVOLVING CHILDREN                  SIDEWALK   1115   \n",
       "4    OFFENSE INVOLVING CHILDREN                     OTHER   1088   \n",
       "..                          ...                       ...    ...   \n",
       "195      PUBLIC PEACE VIOLATION  SCHOOL, PUBLIC, BUILDING   4591   \n",
       "196      PUBLIC PEACE VIOLATION                 APARTMENT   1947   \n",
       "197      PUBLIC PEACE VIOLATION                     ALLEY   1385   \n",
       "198      PUBLIC PEACE VIOLATION                     OTHER   1366   \n",
       "199      PUBLIC PEACE VIOLATION             PARK PROPERTY    784   \n",
       "\n",
       "     location rank  \n",
       "0                1  \n",
       "1                2  \n",
       "2                3  \n",
       "3                4  \n",
       "4                5  \n",
       "..             ...  \n",
       "195              4  \n",
       "196              5  \n",
       "197              6  \n",
       "198              7  \n",
       "199              8  \n",
       "\n",
       "[200 rows x 4 columns]"
      ]
     },
     "execution_count": 90,
     "metadata": {},
     "output_type": "execute_result"
    }
   ],
   "source": [
    "pdf"
   ]
  },
  {
   "cell_type": "code",
   "execution_count": 94,
   "metadata": {},
   "outputs": [
    {
     "name": "stdout",
     "output_type": "stream",
     "text": [
      "+--------------------+--------------------+-----+-------------+\n",
      "|        Primary Type|Location Description|count|location rank|\n",
      "+--------------------+--------------------+-----+-------------+\n",
      "|OFFENSE INVOLVING...|           RESIDENCE|24877|            1|\n",
      "|OFFENSE INVOLVING...|           APARTMENT|10755|            2|\n",
      "|OFFENSE INVOLVING...|              STREET| 2008|            3|\n",
      "|CRIMINAL SEXUAL A...|           RESIDENCE|  174|            1|\n",
      "|CRIMINAL SEXUAL A...|           APARTMENT|   99|            2|\n",
      "|CRIMINAL SEXUAL A...|              STREET|   20|            3|\n",
      "|            STALKING|           RESIDENCE|  928|            1|\n",
      "|            STALKING|              STREET|  889|            2|\n",
      "|            STALKING|           APARTMENT|  379|            3|\n",
      "|PUBLIC PEACE VIOL...|              STREET|14651|            1|\n",
      "|PUBLIC PEACE VIOL...|            SIDEWALK| 9069|            2|\n",
      "|PUBLIC PEACE VIOL...|           RESIDENCE| 4789|            3|\n",
      "|NON-CRIMINAL (SUB...|           APARTMENT|    3|            1|\n",
      "|NON-CRIMINAL (SUB...|POLICE FACILITY/V...|    2|            2|\n",
      "|NON-CRIMINAL (SUB...|           RESIDENCE|    2|            2|\n",
      "|           OBSCENITY|           RESIDENCE|  272|            1|\n",
      "|           OBSCENITY|           APARTMENT|   83|            2|\n",
      "|           OBSCENITY|SCHOOL, PUBLIC, B...|   41|            3|\n",
      "|               ARSON|VEHICLE NON-COMME...| 3482|            1|\n",
      "|               ARSON|           RESIDENCE| 2104|            2|\n",
      "+--------------------+--------------------+-----+-------------+\n",
      "only showing top 20 rows\n",
      "\n"
     ]
    }
   ],
   "source": [
    "df_place.filter(col('location rank') <= 3).show()"
   ]
  },
  {
   "cell_type": "markdown",
   "metadata": {},
   "source": [
    "## Filtering on multiple columns"
   ]
  },
  {
   "cell_type": "markdown",
   "metadata": {},
   "source": [
    "## Show top 3 stalking only"
   ]
  },
  {
   "cell_type": "code",
   "execution_count": 102,
   "metadata": {},
   "outputs": [
    {
     "name": "stdout",
     "output_type": "stream",
     "text": [
      "+------------+--------------------+-----+-------------+\n",
      "|Primary Type|Location Description|count|location rank|\n",
      "+------------+--------------------+-----+-------------+\n",
      "|    STALKING|           RESIDENCE|  928|            1|\n",
      "|    STALKING|              STREET|  889|            2|\n",
      "|    STALKING|           APARTMENT|  379|            3|\n",
      "+------------+--------------------+-----+-------------+\n",
      "\n"
     ]
    }
   ],
   "source": [
    "df_place.filter(\n",
    "    (col('location rank') <= 3) & \n",
    "    (col('Primary Type') == 'STALKING')\n",
    "    ).show()"
   ]
  },
  {
   "cell_type": "markdown",
   "metadata": {},
   "source": [
    "# Simple solutions to overall percent of incidents resulting in arrest and top locations"
   ]
  },
  {
   "cell_type": "code",
   "execution_count": 105,
   "metadata": {},
   "outputs": [
    {
     "data": {
      "text/plain": [
       "0.2775487591901761"
      ]
     },
     "execution_count": 105,
     "metadata": {},
     "output_type": "execute_result"
    }
   ],
   "source": [
    "df.filter(col('Arrest') == 'true').count() / df.select('Arrest').count()"
   ]
  },
  {
   "cell_type": "code",
   "execution_count": 107,
   "metadata": {},
   "outputs": [
    {
     "name": "stdout",
     "output_type": "stream",
     "text": [
      "+--------------------+-------+\n",
      "|Location Description|  count|\n",
      "+--------------------+-------+\n",
      "|              STREET|1770478|\n",
      "|           RESIDENCE|1144683|\n",
      "|           APARTMENT| 698195|\n",
      "|            SIDEWALK| 665511|\n",
      "|               OTHER| 256811|\n",
      "|PARKING LOT/GARAG...| 193778|\n",
      "|               ALLEY| 150901|\n",
      "|SCHOOL, PUBLIC, B...| 142320|\n",
      "|    RESIDENCE-GARAGE| 131616|\n",
      "|  SMALL RETAIL STORE| 119269|\n",
      "|RESIDENCE PORCH/H...| 117913|\n",
      "|VEHICLE NON-COMME...| 108405|\n",
      "|          RESTAURANT| 105599|\n",
      "|  GROCERY FOOD STORE|  87300|\n",
      "|    DEPARTMENT STORE|  83663|\n",
      "|         GAS STATION|  71984|\n",
      "|RESIDENTIAL YARD ...|  69471|\n",
      "|CHA PARKING LOT/G...|  55453|\n",
      "|       PARK PROPERTY|  52339|\n",
      "|COMMERCIAL / BUSI...|  49172|\n",
      "+--------------------+-------+\n",
      "only showing top 20 rows\n",
      "\n"
     ]
    }
   ],
   "source": [
    "df.groupby('Location Description').count().orderBy(col('count').desc()).show()"
   ]
  },
  {
   "cell_type": "code",
   "execution_count": null,
   "metadata": {},
   "outputs": [],
   "source": []
  }
 ],
 "metadata": {
  "kernelspec": {
   "display_name": "Python 3",
   "language": "python",
   "name": "python3"
  },
  "language_info": {
   "codemirror_mode": {
    "name": "ipython",
    "version": 3
   },
   "file_extension": ".py",
   "mimetype": "text/x-python",
   "name": "python",
   "nbconvert_exporter": "python",
   "pygments_lexer": "ipython3",
   "version": "3.7.7"
  }
 },
 "nbformat": 4,
 "nbformat_minor": 4
}
